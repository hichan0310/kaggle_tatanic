{
 "cells": [
  {
   "cell_type": "code",
   "id": "initial_id",
   "metadata": {
    "collapsed": true,
    "ExecuteTime": {
     "end_time": "2024-07-07T15:59:52.932567Z",
     "start_time": "2024-07-07T15:59:52.928808Z"
    }
   },
   "source": [
    "import torch\n",
    "import torch.nn.functional as F\n",
    "import torch.nn as nn\n",
    "import torch.optim as optim\n",
    "from torch import FloatTensor as tensor\n",
    "from torch.utils.data import TensorDataset, DataLoader\n",
    "import matplotlib.pyplot as plt\n",
    "import pandas as pd"
   ],
   "outputs": [],
   "execution_count": 1055
  },
  {
   "metadata": {
    "ExecuteTime": {
     "end_time": "2024-07-07T15:59:53.437659Z",
     "start_time": "2024-07-07T15:59:53.435002Z"
    }
   },
   "cell_type": "code",
   "source": "device = torch.device(\"cpu\" if torch.cuda.is_available() else \"cpu\")",
   "id": "e8148b4052292d79",
   "outputs": [],
   "execution_count": 1056
  },
  {
   "metadata": {
    "ExecuteTime": {
     "end_time": "2024-07-07T15:59:53.484395Z",
     "start_time": "2024-07-07T15:59:53.481151Z"
    }
   },
   "cell_type": "code",
   "source": "device",
   "id": "8bd0713ef9330a84",
   "outputs": [
    {
     "data": {
      "text/plain": [
       "device(type='cpu')"
      ]
     },
     "execution_count": 1057,
     "metadata": {},
     "output_type": "execute_result"
    }
   ],
   "execution_count": 1057
  },
  {
   "metadata": {
    "ExecuteTime": {
     "end_time": "2024-07-07T15:59:53.655336Z",
     "start_time": "2024-07-07T15:59:53.651751Z"
    }
   },
   "cell_type": "code",
   "source": "datasets = pd.read_csv('./datasets/__train.csv')",
   "id": "37e0c112d885ca9e",
   "outputs": [],
   "execution_count": 1058
  },
  {
   "metadata": {
    "ExecuteTime": {
     "end_time": "2024-07-07T15:59:53.676705Z",
     "start_time": "2024-07-07T15:59:53.673543Z"
    }
   },
   "cell_type": "code",
   "source": [
    "datasets_survived=datasets[datasets['Survived']==1]\n",
    "datasets_die=datasets[datasets['Survived']==0]"
   ],
   "id": "88ac7f38613cb82a",
   "outputs": [],
   "execution_count": 1059
  },
  {
   "metadata": {
    "ExecuteTime": {
     "end_time": "2024-07-07T15:59:53.683743Z",
     "start_time": "2024-07-07T15:59:53.677705Z"
    }
   },
   "cell_type": "code",
   "source": "datasets_survived.shape, datasets_die.shape",
   "id": "5c3162caa62f66a",
   "outputs": [
    {
     "data": {
      "text/plain": [
       "((263, 11), (512, 11))"
      ]
     },
     "execution_count": 1060,
     "metadata": {},
     "output_type": "execute_result"
    }
   ],
   "execution_count": 1060
  },
  {
   "metadata": {
    "ExecuteTime": {
     "end_time": "2024-07-07T15:59:53.689858Z",
     "start_time": "2024-07-07T15:59:53.683743Z"
    }
   },
   "cell_type": "code",
   "source": "datasets_die=datasets_die[:400]",
   "id": "d0ff2b03bf34a8ac",
   "outputs": [],
   "execution_count": 1061
  },
  {
   "metadata": {
    "ExecuteTime": {
     "end_time": "2024-07-07T15:59:53.696353Z",
     "start_time": "2024-07-07T15:59:53.689858Z"
    }
   },
   "cell_type": "code",
   "source": [
    "datasets=pd.concat([datasets_survived, datasets_die])\n",
    "datasets=datasets.sample(frac=1).reset_index(drop=True)"
   ],
   "id": "8511c38a2be838f6",
   "outputs": [],
   "execution_count": 1062
  },
  {
   "metadata": {
    "ExecuteTime": {
     "end_time": "2024-07-07T15:59:53.705010Z",
     "start_time": "2024-07-07T15:59:53.696353Z"
    }
   },
   "cell_type": "code",
   "source": "datasets.head(10)",
   "id": "7f1655b896fc7b3c",
   "outputs": [
    {
     "data": {
      "text/plain": [
       "   Survived  Pclass    Age  SibSp     Parch      Fare  Sex_male  Embarked_C  \\\n",
       "0         0       1  1.175    0.0  0.000000  1.184615         1           0   \n",
       "1         0       3  0.025    1.6  0.333333  1.221154         1           0   \n",
       "2         1       3  0.675    0.0  0.333333  0.383846         0           0   \n",
       "3         0       3  0.425    0.4  0.333333  0.222437         1           1   \n",
       "4         1       2  0.600    0.0  0.666667  0.446154         0           0   \n",
       "5         0       3  0.500    0.0  0.000000  0.123462         1           1   \n",
       "6         0       3  0.000    0.4  0.000000  0.476923         1           0   \n",
       "7         0       2  0.575    0.0  0.000000  0.323077         1           0   \n",
       "8         0       3  0.700    0.4  0.333333  0.443077         0           0   \n",
       "9         1       3  0.075    0.4  0.333333  0.489231         1           0   \n",
       "\n",
       "   Embarked_Q  Embarked_S  IsAgeNull  \n",
       "0           0           1          0  \n",
       "1           0           1          0  \n",
       "2           0           1          0  \n",
       "3           0           0          0  \n",
       "4           0           1          0  \n",
       "5           0           0          0  \n",
       "6           1           0          1  \n",
       "7           0           1          0  \n",
       "8           0           1          0  \n",
       "9           0           1          0  "
      ],
      "text/html": [
       "<div>\n",
       "<style scoped>\n",
       "    .dataframe tbody tr th:only-of-type {\n",
       "        vertical-align: middle;\n",
       "    }\n",
       "\n",
       "    .dataframe tbody tr th {\n",
       "        vertical-align: top;\n",
       "    }\n",
       "\n",
       "    .dataframe thead th {\n",
       "        text-align: right;\n",
       "    }\n",
       "</style>\n",
       "<table border=\"1\" class=\"dataframe\">\n",
       "  <thead>\n",
       "    <tr style=\"text-align: right;\">\n",
       "      <th></th>\n",
       "      <th>Survived</th>\n",
       "      <th>Pclass</th>\n",
       "      <th>Age</th>\n",
       "      <th>SibSp</th>\n",
       "      <th>Parch</th>\n",
       "      <th>Fare</th>\n",
       "      <th>Sex_male</th>\n",
       "      <th>Embarked_C</th>\n",
       "      <th>Embarked_Q</th>\n",
       "      <th>Embarked_S</th>\n",
       "      <th>IsAgeNull</th>\n",
       "    </tr>\n",
       "  </thead>\n",
       "  <tbody>\n",
       "    <tr>\n",
       "      <th>0</th>\n",
       "      <td>0</td>\n",
       "      <td>1</td>\n",
       "      <td>1.175</td>\n",
       "      <td>0.0</td>\n",
       "      <td>0.000000</td>\n",
       "      <td>1.184615</td>\n",
       "      <td>1</td>\n",
       "      <td>0</td>\n",
       "      <td>0</td>\n",
       "      <td>1</td>\n",
       "      <td>0</td>\n",
       "    </tr>\n",
       "    <tr>\n",
       "      <th>1</th>\n",
       "      <td>0</td>\n",
       "      <td>3</td>\n",
       "      <td>0.025</td>\n",
       "      <td>1.6</td>\n",
       "      <td>0.333333</td>\n",
       "      <td>1.221154</td>\n",
       "      <td>1</td>\n",
       "      <td>0</td>\n",
       "      <td>0</td>\n",
       "      <td>1</td>\n",
       "      <td>0</td>\n",
       "    </tr>\n",
       "    <tr>\n",
       "      <th>2</th>\n",
       "      <td>1</td>\n",
       "      <td>3</td>\n",
       "      <td>0.675</td>\n",
       "      <td>0.0</td>\n",
       "      <td>0.333333</td>\n",
       "      <td>0.383846</td>\n",
       "      <td>0</td>\n",
       "      <td>0</td>\n",
       "      <td>0</td>\n",
       "      <td>1</td>\n",
       "      <td>0</td>\n",
       "    </tr>\n",
       "    <tr>\n",
       "      <th>3</th>\n",
       "      <td>0</td>\n",
       "      <td>3</td>\n",
       "      <td>0.425</td>\n",
       "      <td>0.4</td>\n",
       "      <td>0.333333</td>\n",
       "      <td>0.222437</td>\n",
       "      <td>1</td>\n",
       "      <td>1</td>\n",
       "      <td>0</td>\n",
       "      <td>0</td>\n",
       "      <td>0</td>\n",
       "    </tr>\n",
       "    <tr>\n",
       "      <th>4</th>\n",
       "      <td>1</td>\n",
       "      <td>2</td>\n",
       "      <td>0.600</td>\n",
       "      <td>0.0</td>\n",
       "      <td>0.666667</td>\n",
       "      <td>0.446154</td>\n",
       "      <td>0</td>\n",
       "      <td>0</td>\n",
       "      <td>0</td>\n",
       "      <td>1</td>\n",
       "      <td>0</td>\n",
       "    </tr>\n",
       "    <tr>\n",
       "      <th>5</th>\n",
       "      <td>0</td>\n",
       "      <td>3</td>\n",
       "      <td>0.500</td>\n",
       "      <td>0.0</td>\n",
       "      <td>0.000000</td>\n",
       "      <td>0.123462</td>\n",
       "      <td>1</td>\n",
       "      <td>1</td>\n",
       "      <td>0</td>\n",
       "      <td>0</td>\n",
       "      <td>0</td>\n",
       "    </tr>\n",
       "    <tr>\n",
       "      <th>6</th>\n",
       "      <td>0</td>\n",
       "      <td>3</td>\n",
       "      <td>0.000</td>\n",
       "      <td>0.4</td>\n",
       "      <td>0.000000</td>\n",
       "      <td>0.476923</td>\n",
       "      <td>1</td>\n",
       "      <td>0</td>\n",
       "      <td>1</td>\n",
       "      <td>0</td>\n",
       "      <td>1</td>\n",
       "    </tr>\n",
       "    <tr>\n",
       "      <th>7</th>\n",
       "      <td>0</td>\n",
       "      <td>2</td>\n",
       "      <td>0.575</td>\n",
       "      <td>0.0</td>\n",
       "      <td>0.000000</td>\n",
       "      <td>0.323077</td>\n",
       "      <td>1</td>\n",
       "      <td>0</td>\n",
       "      <td>0</td>\n",
       "      <td>1</td>\n",
       "      <td>0</td>\n",
       "    </tr>\n",
       "    <tr>\n",
       "      <th>8</th>\n",
       "      <td>0</td>\n",
       "      <td>3</td>\n",
       "      <td>0.700</td>\n",
       "      <td>0.4</td>\n",
       "      <td>0.333333</td>\n",
       "      <td>0.443077</td>\n",
       "      <td>0</td>\n",
       "      <td>0</td>\n",
       "      <td>0</td>\n",
       "      <td>1</td>\n",
       "      <td>0</td>\n",
       "    </tr>\n",
       "    <tr>\n",
       "      <th>9</th>\n",
       "      <td>1</td>\n",
       "      <td>3</td>\n",
       "      <td>0.075</td>\n",
       "      <td>0.4</td>\n",
       "      <td>0.333333</td>\n",
       "      <td>0.489231</td>\n",
       "      <td>1</td>\n",
       "      <td>0</td>\n",
       "      <td>0</td>\n",
       "      <td>1</td>\n",
       "      <td>0</td>\n",
       "    </tr>\n",
       "  </tbody>\n",
       "</table>\n",
       "</div>"
      ]
     },
     "execution_count": 1063,
     "metadata": {},
     "output_type": "execute_result"
    }
   ],
   "execution_count": 1063
  },
  {
   "metadata": {
    "ExecuteTime": {
     "end_time": "2024-07-07T15:59:53.716283Z",
     "start_time": "2024-07-07T15:59:53.713544Z"
    }
   },
   "cell_type": "code",
   "source": [
    "y_data = datasets[['Survived']]\n",
    "x_data = datasets.drop('Survived', axis=1)"
   ],
   "id": "b08b169186a2cabc",
   "outputs": [],
   "execution_count": 1064
  },
  {
   "metadata": {
    "ExecuteTime": {
     "end_time": "2024-07-07T15:59:53.750241Z",
     "start_time": "2024-07-07T15:59:53.746851Z"
    }
   },
   "cell_type": "code",
   "source": "x_data, y_data = tensor(x_data.values).to(device), tensor(y_data.values).to(device)",
   "id": "226f408c58d52391",
   "outputs": [],
   "execution_count": 1065
  },
  {
   "metadata": {
    "ExecuteTime": {
     "end_time": "2024-07-07T15:59:53.809726Z",
     "start_time": "2024-07-07T15:59:53.806793Z"
    }
   },
   "cell_type": "code",
   "source": "x_data.shape, y_data.shape",
   "id": "9e9a99750718710",
   "outputs": [
    {
     "data": {
      "text/plain": [
       "(torch.Size([663, 10]), torch.Size([663, 1]))"
      ]
     },
     "execution_count": 1066,
     "metadata": {},
     "output_type": "execute_result"
    }
   ],
   "execution_count": 1066
  },
  {
   "metadata": {
    "ExecuteTime": {
     "end_time": "2024-07-07T15:59:53.843977Z",
     "start_time": "2024-07-07T15:59:53.841621Z"
    }
   },
   "cell_type": "code",
   "source": [
    "train=int(0.8*x_data.shape[0])\n",
    "test=x_data.shape[0]-train\n",
    "sample_size_train, sample_size_test = train, test\n",
    "batch_size = 10\n",
    "epoches = 500"
   ],
   "id": "d8d017a240df11d7",
   "outputs": [],
   "execution_count": 1067
  },
  {
   "metadata": {
    "ExecuteTime": {
     "end_time": "2024-07-07T15:59:53.856325Z",
     "start_time": "2024-07-07T15:59:53.853947Z"
    }
   },
   "cell_type": "code",
   "source": [
    "x_train, x_test=x_data[:train], x_data[train:]\n",
    "y_train, y_test=y_data[:train], y_data[train:]"
   ],
   "id": "cf9826c2f9a364b7",
   "outputs": [],
   "execution_count": 1068
  },
  {
   "metadata": {
    "ExecuteTime": {
     "end_time": "2024-07-07T15:59:53.900263Z",
     "start_time": "2024-07-07T15:59:53.896885Z"
    }
   },
   "cell_type": "code",
   "source": [
    "class learning(nn.Module):\n",
    "    def __init__(self):\n",
    "        super().__init__()\n",
    "        self.layer = nn.Sequential(\n",
    "            nn.Linear(10, 8),\n",
    "            nn.LeakyReLU(),\n",
    "            nn.Linear(8, 4),\n",
    "            nn.LeakyReLU(),\n",
    "            nn.Linear(4, 1),\n",
    "            nn.Sigmoid()\n",
    "        )\n",
    "        self.dropout = nn.Dropout(0.3)\n",
    "\n",
    "    def forward(self, x):\n",
    "        x = self.layer(x)\n",
    "        return x"
   ],
   "id": "44f9002f03554091",
   "outputs": [],
   "execution_count": 1069
  },
  {
   "metadata": {
    "ExecuteTime": {
     "end_time": "2024-07-07T15:59:53.933390Z",
     "start_time": "2024-07-07T15:59:53.930007Z"
    }
   },
   "cell_type": "code",
   "source": [
    "model = learning().to(device)\n",
    "optimizer = optim.Adam(model.parameters(), lr=0.001)\n",
    "\n",
    "datasets_train = TensorDataset(x_train, y_train)\n",
    "dataloader_train = DataLoader(datasets_train, batch_size=batch_size, shuffle=True, drop_last=True)\n",
    "\n",
    "datasets_test = TensorDataset(x_test, y_test)\n",
    "dataloader_test = DataLoader(datasets_test, batch_size=1, shuffle=True, drop_last=True)"
   ],
   "id": "df5a30f83037a379",
   "outputs": [],
   "execution_count": 1070
  },
  {
   "metadata": {
    "ExecuteTime": {
     "end_time": "2024-07-07T15:59:53.941268Z",
     "start_time": "2024-07-07T15:59:53.938379Z"
    }
   },
   "cell_type": "code",
   "source": "x_train.device",
   "id": "3965597efb7d898a",
   "outputs": [
    {
     "data": {
      "text/plain": [
       "device(type='cpu')"
      ]
     },
     "execution_count": 1071,
     "metadata": {},
     "output_type": "execute_result"
    }
   ],
   "execution_count": 1071
  },
  {
   "metadata": {
    "ExecuteTime": {
     "end_time": "2024-07-07T15:59:53.995556Z",
     "start_time": "2024-07-07T15:59:53.993167Z"
    }
   },
   "cell_type": "code",
   "source": "history_train, history_test, history_accuracy = [], [], []",
   "id": "22f31d2d6465a657",
   "outputs": [],
   "execution_count": 1072
  },
  {
   "metadata": {
    "ExecuteTime": {
     "end_time": "2024-07-07T15:59:58.095162Z",
     "start_time": "2024-07-07T15:59:54.015166Z"
    }
   },
   "cell_type": "code",
   "source": [
    "for epoch in range(100):\n",
    "    cost_train, cost_test, acc = 0, 0, 0\n",
    "    \n",
    "    for batch_ind, sample in enumerate(dataloader_train):\n",
    "        x, y = sample\n",
    "        prediction = model(x)\n",
    "        cost = F.binary_cross_entropy(prediction, y)\n",
    "        optimizer.zero_grad()\n",
    "        cost.backward()\n",
    "        optimizer.step()\n",
    "        cost_train += cost.item()\n",
    "        \n",
    "    for batch_ind, sample in enumerate(dataloader_test):\n",
    "        x, y = sample\n",
    "        prediction = model(x)\n",
    "        cost = F.binary_cross_entropy(prediction, y)\n",
    "        cost_test += cost.item()\n",
    "        \n",
    "        acc+=sum(list(map(lambda x:1 if float(x)<0.5 else 0, list(y-prediction))))\n",
    "    \n",
    "    cost_train, cost_test=cost_train / int(sample_size_train / batch_size), cost_test / sample_size_test\n",
    "    acc=acc/sample_size_test\n",
    "    \n",
    "    if (epoch + 1) % 10 == 0:\n",
    "        print(\"epoch {} : {:.5f}, {:.5f}, {}\".format(epoch + 1, cost_train, cost_test, int(acc*100)))\n",
    "\n",
    "    history_train.append(cost_train)\n",
    "    history_test.append(cost_test)\n",
    "    history_accuracy.append(acc)"
   ],
   "id": "8f33b5471a794dbd",
   "outputs": [
    {
     "name": "stdout",
     "output_type": "stream",
     "text": [
      "epoch 10 : 0.62309, 0.59143, 78\n",
      "epoch 20 : 0.49762, 0.48241, 87\n",
      "epoch 30 : 0.48214, 0.47883, 87\n",
      "epoch 40 : 0.47574, 0.45889, 87\n",
      "epoch 50 : 0.46647, 0.45373, 87\n",
      "epoch 60 : 0.46305, 0.44535, 86\n",
      "epoch 70 : 0.45835, 0.43719, 86\n",
      "epoch 80 : 0.45628, 0.43054, 85\n",
      "epoch 90 : 0.45034, 0.43015, 87\n",
      "epoch 100 : 0.44695, 0.42531, 87\n"
     ]
    }
   ],
   "execution_count": 1073
  },
  {
   "metadata": {
    "ExecuteTime": {
     "end_time": "2024-07-07T15:59:58.179429Z",
     "start_time": "2024-07-07T15:59:58.113924Z"
    }
   },
   "cell_type": "code",
   "source": [
    "plt.plot(history_train)\n",
    "plt.plot(history_test)\n",
    "plt.plot(history_accuracy)"
   ],
   "id": "a5dbba10ed057a4c",
   "outputs": [
    {
     "data": {
      "text/plain": [
       "[<matplotlib.lines.Line2D at 0x29130e136d0>]"
      ]
     },
     "execution_count": 1074,
     "metadata": {},
     "output_type": "execute_result"
    },
    {
     "data": {
      "text/plain": [
       "<Figure size 640x480 with 1 Axes>"
      ],
      "image/png": "[encoded data removed]"
     },
     "metadata": {},
     "output_type": "display_data"
    }
   ],
   "execution_count": 1074
  },
  {
   "metadata": {
    "ExecuteTime": {
     "end_time": "2024-07-07T15:59:58.183369Z",
     "start_time": "2024-07-07T15:59:58.180526Z"
    }
   },
   "cell_type": "code",
   "source": "history_accuracy[-1]*100",
   "id": "d73522c02894e232",
   "outputs": [
    {
     "data": {
      "text/plain": [
       "87.21804511278195"
      ]
     },
     "execution_count": 1075,
     "metadata": {},
     "output_type": "execute_result"
    }
   ],
   "execution_count": 1075
  },
  {
   "metadata": {
    "ExecuteTime": {
     "end_time": "2024-07-07T15:59:58.189637Z",
     "start_time": "2024-07-07T15:59:58.183369Z"
    }
   },
   "cell_type": "code",
   "source": "torch.save(model.state_dict(), 'model.pt')",
   "id": "f82ac3257f10d8c6",
   "outputs": [],
   "execution_count": 1076
  },
  {
   "metadata": {
    "ExecuteTime": {
     "end_time": "2024-07-07T15:59:58.196267Z",
     "start_time": "2024-07-07T15:59:58.189637Z"
    }
   },
   "cell_type": "code",
   "source": "sample_size_test",
   "id": "ae82cf321d7f8f8e",
   "outputs": [
    {
     "data": {
      "text/plain": [
       "133"
      ]
     },
     "execution_count": 1077,
     "metadata": {},
     "output_type": "execute_result"
    }
   ],
   "execution_count": 1077
  },
  {
   "metadata": {},
   "cell_type": "code",
   "outputs": [],
   "execution_count": null,
   "source": "",
   "id": "f649dec79504342a"
  }
 ],
 "metadata": {
  "kernelspec": {
   "display_name": "Python 3",
   "language": "python",
   "name": "python3"
  },
  "language_info": {
   "codemirror_mode": {
    "name": "ipython",
    "version": 2
   },
   "file_extension": ".py",
   "mimetype": "text/x-python",
   "name": "python",
   "nbconvert_exporter": "python",
   "pygments_lexer": "ipython2",
   "version": "2.7.6"
  }
 },
 "nbformat": 4,
 "nbformat_minor": 5
}
